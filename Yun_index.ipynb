{
 "cells": [
  {
   "cell_type": "code",
   "execution_count": 1,
   "metadata": {},
   "outputs": [],
   "source": [
    "import pandas as pd\n",
    "import zipfile"
   ]
  },
  {
   "cell_type": "code",
   "execution_count": 2,
   "metadata": {},
   "outputs": [
    {
     "name": "stdout",
     "output_type": "stream",
     "text": [
      "<class 'pandas.core.frame.DataFrame'>\n",
      "RangeIndex: 416872 entries, 0 to 416871\n",
      "Data columns (total 49 columns):\n",
      " #   Column                         Non-Null Count   Dtype  \n",
      "---  ------                         --------------   -----  \n",
      " 0   CRASH_RECORD_ID                416872 non-null  object \n",
      " 1   RD_NO                          416813 non-null  object \n",
      " 2   CRASH_DATE_EST_I               31821 non-null   object \n",
      " 3   CRASH_DATE                     416868 non-null  object \n",
      " 4   POSTED_SPEED_LIMIT             416868 non-null  float64\n",
      " 5   TRAFFIC_CONTROL_DEVICE         416868 non-null  object \n",
      " 6   DEVICE_CONDITION               416868 non-null  object \n",
      " 7   WEATHER_CONDITION              416868 non-null  object \n",
      " 8   LIGHTING_CONDITION             416868 non-null  object \n",
      " 9   FIRST_CRASH_TYPE               416867 non-null  object \n",
      " 10  TRAFFICWAY_TYPE                416867 non-null  object \n",
      " 11  LANE_CNT                       126015 non-null  float64\n",
      " 12  ALIGNMENT                      416867 non-null  object \n",
      " 13  ROADWAY_SURFACE_COND           416867 non-null  object \n",
      " 14  ROAD_DEFECT                    416867 non-null  object \n",
      " 15  REPORT_TYPE                    406331 non-null  object \n",
      " 16  CRASH_TYPE                     416867 non-null  object \n",
      " 17  INTERSECTION_RELATED_I         95219 non-null   object \n",
      " 18  NOT_RIGHT_OF_WAY_I             19909 non-null   object \n",
      " 19  HIT_AND_RUN_I                  128868 non-null  object \n",
      " 20  DAMAGE                         416867 non-null  object \n",
      " 21  DATE_POLICE_NOTIFIED           416867 non-null  object \n",
      " 22  PRIM_CONTRIBUTORY_CAUSE        416867 non-null  object \n",
      " 23  SEC_CONTRIBUTORY_CAUSE         416867 non-null  object \n",
      " 24  STREET_NO                      416867 non-null  float64\n",
      " 25  STREET_DIRECTION               416864 non-null  object \n",
      " 26  STREET_NAME                    416867 non-null  object \n",
      " 27  BEAT_OF_OCCURRENCE             416863 non-null  float64\n",
      " 28  PHOTOS_TAKEN_I                 5084 non-null    object \n",
      " 29  STATEMENTS_TAKEN_I             8620 non-null    object \n",
      " 30  DOORING_I                      1287 non-null    object \n",
      " 31  WORK_ZONE_I                    2487 non-null    object \n",
      " 32  WORK_ZONE_TYPE                 1941 non-null    object \n",
      " 33  WORKERS_PRESENT_I              652 non-null     object \n",
      " 34  NUM_UNITS                      416867 non-null  float64\n",
      " 35  MOST_SEVERE_INJURY             415955 non-null  object \n",
      " 36  INJURIES_TOTAL                 415964 non-null  float64\n",
      " 37  INJURIES_FATAL                 415964 non-null  float64\n",
      " 38  INJURIES_INCAPACITATING        415964 non-null  float64\n",
      " 39  INJURIES_NON_INCAPACITATING    415964 non-null  float64\n",
      " 40  INJURIES_REPORTED_NOT_EVIDENT  415964 non-null  float64\n",
      " 41  INJURIES_NO_INDICATION         415964 non-null  float64\n",
      " 42  INJURIES_UNKNOWN               415964 non-null  float64\n",
      " 43  CRASH_HOUR                     416867 non-null  float64\n",
      " 44  CRASH_DAY_OF_WEEK              416867 non-null  float64\n",
      " 45  CRASH_MONTH                    416867 non-null  float64\n",
      " 46  LATITUDE                       414226 non-null  float64\n",
      " 47  LONGITUDE                      414226 non-null  float64\n",
      " 48  LOCATION                       414226 non-null  object \n",
      "dtypes: float64(17), object(32)\n",
      "memory usage: 155.8+ MB\n"
     ]
    }
   ],
   "source": [
    "with zipfile.ZipFile(\"crashes.csv.zip\") as z1:\n",
    "    with z1.open(\"crashes.csv\") as crashes:\n",
    "        df_crashes = pd.read_csv(crashes)\n",
    "\n",
    "df_crashes.info()"
   ]
  },
  {
   "cell_type": "code",
   "execution_count": 3,
   "metadata": {},
   "outputs": [
    {
     "name": "stdout",
     "output_type": "stream",
     "text": [
      "<class 'pandas.core.frame.DataFrame'>\n",
      "Index: 36006 entries, 12 to 416854\n",
      "Data columns (total 49 columns):\n",
      " #   Column                         Non-Null Count  Dtype  \n",
      "---  ------                         --------------  -----  \n",
      " 0   CRASH_RECORD_ID                36006 non-null  object \n",
      " 1   RD_NO                          35999 non-null  object \n",
      " 2   CRASH_DATE_EST_I               2270 non-null   object \n",
      " 3   CRASH_DATE                     36006 non-null  object \n",
      " 4   POSTED_SPEED_LIMIT             36006 non-null  float64\n",
      " 5   TRAFFIC_CONTROL_DEVICE         36006 non-null  object \n",
      " 6   DEVICE_CONDITION               36006 non-null  object \n",
      " 7   WEATHER_CONDITION              36006 non-null  object \n",
      " 8   LIGHTING_CONDITION             36006 non-null  object \n",
      " 9   FIRST_CRASH_TYPE               36006 non-null  object \n",
      " 10  TRAFFICWAY_TYPE                36006 non-null  object \n",
      " 11  LANE_CNT                       11627 non-null  float64\n",
      " 12  ALIGNMENT                      36006 non-null  object \n",
      " 13  ROADWAY_SURFACE_COND           36006 non-null  object \n",
      " 14  ROAD_DEFECT                    36006 non-null  object \n",
      " 15  REPORT_TYPE                    35066 non-null  object \n",
      " 16  CRASH_TYPE                     36006 non-null  object \n",
      " 17  INTERSECTION_RELATED_I         9876 non-null   object \n",
      " 18  NOT_RIGHT_OF_WAY_I             1281 non-null   object \n",
      " 19  HIT_AND_RUN_I                  9937 non-null   object \n",
      " 20  DAMAGE                         36006 non-null  object \n",
      " 21  DATE_POLICE_NOTIFIED           36006 non-null  object \n",
      " 22  PRIM_CONTRIBUTORY_CAUSE        36006 non-null  object \n",
      " 23  SEC_CONTRIBUTORY_CAUSE         36006 non-null  object \n",
      " 24  STREET_NO                      36006 non-null  float64\n",
      " 25  STREET_DIRECTION               36006 non-null  object \n",
      " 26  STREET_NAME                    36006 non-null  object \n",
      " 27  BEAT_OF_OCCURRENCE             36006 non-null  float64\n",
      " 28  PHOTOS_TAKEN_I                 432 non-null    object \n",
      " 29  STATEMENTS_TAKEN_I             831 non-null    object \n",
      " 30  DOORING_I                      82 non-null     object \n",
      " 31  WORK_ZONE_I                    213 non-null    object \n",
      " 32  WORK_ZONE_TYPE                 166 non-null    object \n",
      " 33  WORKERS_PRESENT_I              43 non-null     object \n",
      " 34  NUM_UNITS                      36006 non-null  float64\n",
      " 35  MOST_SEVERE_INJURY             35894 non-null  object \n",
      " 36  INJURIES_TOTAL                 35894 non-null  float64\n",
      " 37  INJURIES_FATAL                 35894 non-null  float64\n",
      " 38  INJURIES_INCAPACITATING        35894 non-null  float64\n",
      " 39  INJURIES_NON_INCAPACITATING    35894 non-null  float64\n",
      " 40  INJURIES_REPORTED_NOT_EVIDENT  35894 non-null  float64\n",
      " 41  INJURIES_NO_INDICATION         35894 non-null  float64\n",
      " 42  INJURIES_UNKNOWN               35894 non-null  float64\n",
      " 43  CRASH_HOUR                     36006 non-null  float64\n",
      " 44  CRASH_DAY_OF_WEEK              36006 non-null  float64\n",
      " 45  CRASH_MONTH                    36006 non-null  float64\n",
      " 46  LATITUDE                       35728 non-null  float64\n",
      " 47  LONGITUDE                      35728 non-null  float64\n",
      " 48  LOCATION                       35728 non-null  object \n",
      "dtypes: float64(17), object(32)\n",
      "memory usage: 13.7+ MB\n"
     ]
    }
   ],
   "source": [
    "df_crashes = df_crashes.loc[df_crashes[\"WEATHER_CONDITION\"] == 'RAIN']\n",
    "df_crashes.info()"
   ]
  },
  {
   "cell_type": "code",
   "execution_count": 19,
   "metadata": {},
   "outputs": [
    {
     "data": {
      "text/plain": [
       "BEAT_OF_OCCURRENCE\n",
       "1834.0    456\n",
       "1824.0    404\n",
       "1831.0    373\n",
       "813.0     371\n",
       "114.0     354\n",
       "         ... \n",
       "1913.0     37\n",
       "1125.0     35\n",
       "1653.0     30\n",
       "1652.0     13\n",
       "1655.0      4\n",
       "Name: count, Length: 274, dtype: int64"
      ]
     },
     "execution_count": 19,
     "metadata": {},
     "output_type": "execute_result"
    }
   ],
   "source": [
    "df_crashes[\"BEAT_OF_OCCURRENCE\"].value_counts()"
   ]
  },
  {
   "cell_type": "markdown",
   "metadata": {},
   "source": [
    "## Feature Engineering"
   ]
  },
  {
   "cell_type": "markdown",
   "metadata": {},
   "source": [
    "#### `MOST_SEVERE_INJURY` column"
   ]
  },
  {
   "cell_type": "code",
   "execution_count": 21,
   "metadata": {},
   "outputs": [
    {
     "data": {
      "text/plain": [
       "MOST_SEVERE_INJURY\n",
       "NO INDICATION OF INJURY     30036\n",
       "NONINCAPACITATING INJURY     3280\n",
       "REPORTED, NOT EVIDENT        1821\n",
       "INCAPACITATING INJURY         716\n",
       "FATAL                          41\n",
       "Name: count, dtype: int64"
      ]
     },
     "execution_count": 21,
     "metadata": {},
     "output_type": "execute_result"
    }
   ],
   "source": [
    "df_crashes[\"MOST_SEVERE_INJURY\"].value_counts()"
   ]
  },
  {
   "cell_type": "code",
   "execution_count": 4,
   "metadata": {},
   "outputs": [
    {
     "data": {
      "text/plain": [
       "112"
      ]
     },
     "execution_count": 4,
     "metadata": {},
     "output_type": "execute_result"
    }
   ],
   "source": [
    "df_crashes[\"MOST_SEVERE_INJURY\"].isna().sum()"
   ]
  },
  {
   "cell_type": "code",
   "execution_count": 4,
   "metadata": {},
   "outputs": [
    {
     "name": "stdout",
     "output_type": "stream",
     "text": [
      "<class 'pandas.core.frame.DataFrame'>\n",
      "Index: 35894 entries, 12 to 416854\n",
      "Data columns (total 49 columns):\n",
      " #   Column                         Non-Null Count  Dtype  \n",
      "---  ------                         --------------  -----  \n",
      " 0   CRASH_RECORD_ID                35894 non-null  object \n",
      " 1   RD_NO                          35887 non-null  object \n",
      " 2   CRASH_DATE_EST_I               2248 non-null   object \n",
      " 3   CRASH_DATE                     35894 non-null  object \n",
      " 4   POSTED_SPEED_LIMIT             35894 non-null  float64\n",
      " 5   TRAFFIC_CONTROL_DEVICE         35894 non-null  object \n",
      " 6   DEVICE_CONDITION               35894 non-null  object \n",
      " 7   WEATHER_CONDITION              35894 non-null  object \n",
      " 8   LIGHTING_CONDITION             35894 non-null  object \n",
      " 9   FIRST_CRASH_TYPE               35894 non-null  object \n",
      " 10  TRAFFICWAY_TYPE                35894 non-null  object \n",
      " 11  LANE_CNT                       11598 non-null  float64\n",
      " 12  ALIGNMENT                      35894 non-null  object \n",
      " 13  ROADWAY_SURFACE_COND           35894 non-null  object \n",
      " 14  ROAD_DEFECT                    35894 non-null  object \n",
      " 15  REPORT_TYPE                    34958 non-null  object \n",
      " 16  CRASH_TYPE                     35894 non-null  object \n",
      " 17  INTERSECTION_RELATED_I         9871 non-null   object \n",
      " 18  NOT_RIGHT_OF_WAY_I             1264 non-null   object \n",
      " 19  HIT_AND_RUN_I                  9898 non-null   object \n",
      " 20  DAMAGE                         35894 non-null  object \n",
      " 21  DATE_POLICE_NOTIFIED           35894 non-null  object \n",
      " 22  PRIM_CONTRIBUTORY_CAUSE        35894 non-null  object \n",
      " 23  SEC_CONTRIBUTORY_CAUSE         35894 non-null  object \n",
      " 24  STREET_NO                      35894 non-null  float64\n",
      " 25  STREET_DIRECTION               35894 non-null  object \n",
      " 26  STREET_NAME                    35894 non-null  object \n",
      " 27  BEAT_OF_OCCURRENCE             35894 non-null  float64\n",
      " 28  PHOTOS_TAKEN_I                 429 non-null    object \n",
      " 29  STATEMENTS_TAKEN_I             830 non-null    object \n",
      " 30  DOORING_I                      82 non-null     object \n",
      " 31  WORK_ZONE_I                    213 non-null    object \n",
      " 32  WORK_ZONE_TYPE                 166 non-null    object \n",
      " 33  WORKERS_PRESENT_I              43 non-null     object \n",
      " 34  NUM_UNITS                      35894 non-null  float64\n",
      " 35  MOST_SEVERE_INJURY             35894 non-null  object \n",
      " 36  INJURIES_TOTAL                 35894 non-null  float64\n",
      " 37  INJURIES_FATAL                 35894 non-null  float64\n",
      " 38  INJURIES_INCAPACITATING        35894 non-null  float64\n",
      " 39  INJURIES_NON_INCAPACITATING    35894 non-null  float64\n",
      " 40  INJURIES_REPORTED_NOT_EVIDENT  35894 non-null  float64\n",
      " 41  INJURIES_NO_INDICATION         35894 non-null  float64\n",
      " 42  INJURIES_UNKNOWN               35894 non-null  float64\n",
      " 43  CRASH_HOUR                     35894 non-null  float64\n",
      " 44  CRASH_DAY_OF_WEEK              35894 non-null  float64\n",
      " 45  CRASH_MONTH                    35894 non-null  float64\n",
      " 46  LATITUDE                       35616 non-null  float64\n",
      " 47  LONGITUDE                      35616 non-null  float64\n",
      " 48  LOCATION                       35616 non-null  object \n",
      "dtypes: float64(17), object(32)\n",
      "memory usage: 13.7+ MB\n"
     ]
    }
   ],
   "source": [
    "# Dropping null values from the target variable column\n",
    "df_crashes = df_crashes.loc[df_crashes[\"MOST_SEVERE_INJURY\"].notna()]\n",
    "df_crashes.info()"
   ]
  },
  {
   "cell_type": "code",
   "execution_count": 5,
   "metadata": {},
   "outputs": [
    {
     "data": {
      "text/plain": [
       "INJURY_BINARY\n",
       "0    30036\n",
       "1     5858\n",
       "Name: count, dtype: int64"
      ]
     },
     "execution_count": 5,
     "metadata": {},
     "output_type": "execute_result"
    }
   ],
   "source": [
    "# Making most severe injury column binary\n",
    "injury_binary = {'NO INDICATION OF INJURY': 0, 'NONINCAPACITATING INJURY': 1, 'REPORTED, NOT EVIDENT': 1, 'INCAPACITATING INJURY': 1, 'FATAL': 1}\n",
    "\n",
    "df_crashes[\"INJURY_BINARY\"] = df_crashes[\"MOST_SEVERE_INJURY\"].map(injury_binary)\n",
    "df_crashes[\"INJURY_BINARY\"].value_counts()\n",
    "# Worth noting that it is very imbalanced."
   ]
  },
  {
   "cell_type": "markdown",
   "metadata": {},
   "source": [
    "#### Selecting relavent columns for our analyses\n",
    "\n",
    "For the first responders, we would like to evaluate the relationship between various factors in car crashes in Chicago and the injuries resulting from the car crashes. Largely, these factors include: **weather condition, time of the crashes, and severity of the damage to the car**."
   ]
  },
  {
   "cell_type": "code",
   "execution_count": 6,
   "metadata": {},
   "outputs": [
    {
     "name": "stdout",
     "output_type": "stream",
     "text": [
      "<class 'pandas.core.frame.DataFrame'>\n",
      "Index: 35894 entries, 12 to 416854\n",
      "Data columns (total 6 columns):\n",
      " #   Column              Non-Null Count  Dtype  \n",
      "---  ------              --------------  -----  \n",
      " 0   LIGHTING_CONDITION  35894 non-null  object \n",
      " 1   CRASH_HOUR          35894 non-null  float64\n",
      " 2   CRASH_DAY_OF_WEEK   35894 non-null  float64\n",
      " 3   CRASH_MONTH         35894 non-null  float64\n",
      " 4   MOST_SEVERE_INJURY  35894 non-null  object \n",
      " 5   INJURY_BINARY       35894 non-null  int64  \n",
      "dtypes: float64(3), int64(1), object(2)\n",
      "memory usage: 1.9+ MB\n"
     ]
    }
   ],
   "source": [
    "col_names = ['LIGHTING_CONDITION', 'CRASH_HOUR', 'CRASH_DAY_OF_WEEK', 'CRASH_MONTH', 'MOST_SEVERE_INJURY', 'INJURY_BINARY']\n",
    "\n",
    "df_crashes = df_crashes[col_names]\n",
    "df_crashes.info()"
   ]
  },
  {
   "cell_type": "markdown",
   "metadata": {},
   "source": [
    "#### Checking for missing values"
   ]
  },
  {
   "cell_type": "code",
   "execution_count": 7,
   "metadata": {},
   "outputs": [
    {
     "data": {
      "text/plain": [
       "LIGHTING_CONDITION    0\n",
       "CRASH_HOUR            0\n",
       "CRASH_DAY_OF_WEEK     0\n",
       "CRASH_MONTH           0\n",
       "MOST_SEVERE_INJURY    0\n",
       "INJURY_BINARY         0\n",
       "dtype: int64"
      ]
     },
     "execution_count": 7,
     "metadata": {},
     "output_type": "execute_result"
    }
   ],
   "source": [
    "df_crashes.isna().sum()"
   ]
  },
  {
   "cell_type": "markdown",
   "metadata": {},
   "source": [
    "## Looking at each column"
   ]
  },
  {
   "cell_type": "code",
   "execution_count": 8,
   "metadata": {},
   "outputs": [],
   "source": [
    "# groupby for EDA\n",
    "grouped_crashes_binary = df_crashes.groupby(['INJURY_BINARY'])"
   ]
  },
  {
   "cell_type": "markdown",
   "metadata": {},
   "source": [
    "#### `LIGHTING_CONDITION`"
   ]
  },
  {
   "cell_type": "code",
   "execution_count": 30,
   "metadata": {},
   "outputs": [
    {
     "data": {
      "text/plain": [
       "LIGHTING_CONDITION\n",
       "DAYLIGHT                  19727\n",
       "DARKNESS, LIGHTED ROAD    10780\n",
       "DARKNESS                   2455\n",
       "DUSK                       1556\n",
       "DAWN                        999\n",
       "UNKNOWN                     377\n",
       "Name: count, dtype: int64"
      ]
     },
     "execution_count": 30,
     "metadata": {},
     "output_type": "execute_result"
    }
   ],
   "source": [
    "df_crashes['LIGHTING_CONDITION'].value_counts()"
   ]
  },
  {
   "cell_type": "markdown",
   "metadata": {},
   "source": [
    "#### `CRASH_HOUR`"
   ]
  },
  {
   "cell_type": "code",
   "execution_count": 32,
   "metadata": {},
   "outputs": [
    {
     "data": {
      "text/plain": [
       "CRASH_HOUR\n",
       "17.0    2600\n",
       "16.0    2525\n",
       "15.0    2379\n",
       "18.0    2245\n",
       "14.0    1929\n",
       "13.0    1869\n",
       "8.0     1867\n",
       "19.0    1858\n",
       "12.0    1772\n",
       "7.0     1655\n",
       "9.0     1646\n",
       "20.0    1610\n",
       "11.0    1588\n",
       "10.0    1470\n",
       "21.0    1463\n",
       "22.0    1332\n",
       "23.0    1125\n",
       "6.0      963\n",
       "0.0      848\n",
       "1.0      789\n",
       "2.0      663\n",
       "5.0      606\n",
       "3.0      568\n",
       "4.0      524\n",
       "Name: count, dtype: int64"
      ]
     },
     "execution_count": 32,
     "metadata": {},
     "output_type": "execute_result"
    }
   ],
   "source": [
    "df_crashes['CRASH_HOUR'].value_counts()"
   ]
  },
  {
   "cell_type": "code",
   "execution_count": 33,
   "metadata": {},
   "outputs": [
    {
     "data": {
      "text/plain": [
       "<matplotlib.legend.Legend at 0x1424eec50>"
      ]
     },
     "execution_count": 33,
     "metadata": {},
     "output_type": "execute_result"
    },
    {
     "data": {
      "image/png": "[encoded data removed]",
      "text/plain": [
       "<Figure size 1000x500 with 1 Axes>"
      ]
     },
     "metadata": {},
     "output_type": "display_data"
    }
   ],
   "source": [
    "# A line graph of No Injury/Injury on Crash Hours\n",
    "import matplotlib.pyplot as plt\n",
    "fig, ax = plt.subplots(figsize=(10,5))\n",
    "x_no_injury = grouped_crashes_binary.get_group(0)['CRASH_HOUR'].value_counts().sort_index().index\n",
    "y_no_injury = grouped_crashes_binary.get_group(0)['CRASH_HOUR'].value_counts().sort_index().values\n",
    "ax.plot(x_no_injury, y_no_injury, 'b', label='No Injury')\n",
    "\n",
    "x_injury = grouped_crashes_binary.get_group(1)['CRASH_HOUR'].value_counts().sort_index().index\n",
    "y_injury = grouped_crashes_binary.get_group(1)['CRASH_HOUR'].value_counts().sort_index().values\n",
    "ax.plot(x_injury, y_injury, 'orange', label='Injury')\n",
    "\n",
    "ax.set_title(\"Injuries and Crash Hours\")\n",
    "ax.set_xlabel(\"Hours\")\n",
    "ax.set_ylabel(\"Number of Crashes\")\n",
    "ax.set_xticks(range(0,25))\n",
    "plt.margins(x=0)\n",
    "ax.legend()\n",
    "\n",
    "# Potentially, this may be interesting\n",
    "# It seems more injuries resulting from car crashes occur between 3-5 pm\n",
    "# Rather than night time or rush hour"
   ]
  },
  {
   "cell_type": "markdown",
   "metadata": {},
   "source": [
    "#### `CRASH_DAY_OF_WEEK`"
   ]
  },
  {
   "cell_type": "code",
   "execution_count": 34,
   "metadata": {},
   "outputs": [
    {
     "data": {
      "text/plain": [
       "CRASH_DAY_OF_WEEK\n",
       "7.0    5993\n",
       "6.0    5752\n",
       "4.0    5552\n",
       "3.0    4941\n",
       "5.0    4813\n",
       "2.0    4504\n",
       "1.0    4339\n",
       "Name: count, dtype: int64"
      ]
     },
     "execution_count": 34,
     "metadata": {},
     "output_type": "execute_result"
    }
   ],
   "source": [
    "# Sunday is 1\n",
    "df_crashes[\"CRASH_DAY_OF_WEEK\"].value_counts()"
   ]
  },
  {
   "cell_type": "code",
   "execution_count": 35,
   "metadata": {},
   "outputs": [
    {
     "name": "stderr",
     "output_type": "stream",
     "text": [
      "/var/folders/g7/g9fxssr51yd508bw8xr5xtcw0000gn/T/ipykernel_1318/241389436.py:14: UserWarning: FixedFormatter should only be used together with FixedLocator\n",
      "  ax.set_xticklabels(['Sun', 'Mon', 'Tue', 'Wed', 'Thur', 'Fri', 'Sat'])\n"
     ]
    },
    {
     "data": {
      "text/plain": [
       "<matplotlib.legend.Legend at 0x14258b400>"
      ]
     },
     "execution_count": 35,
     "metadata": {},
     "output_type": "execute_result"
    },
    {
     "data": {
      "image/png": "[encoded data removed]",
      "text/plain": [
       "<Figure size 1000x500 with 1 Axes>"
      ]
     },
     "metadata": {},
     "output_type": "display_data"
    }
   ],
   "source": [
    "# A line graph on day of week\n",
    "fig, ax = plt.subplots(figsize=(10,5))\n",
    "x_no_injury = grouped_crashes_binary.get_group(0)['CRASH_DAY_OF_WEEK'].value_counts().sort_index().index\n",
    "y_no_injury = grouped_crashes_binary.get_group(0)['CRASH_DAY_OF_WEEK'].value_counts().sort_index().values\n",
    "ax.plot(x_no_injury, y_no_injury, 'b', label='No Injury')\n",
    "\n",
    "x_injury = grouped_crashes_binary.get_group(1)['CRASH_DAY_OF_WEEK'].value_counts().sort_index().index\n",
    "y_injury = grouped_crashes_binary.get_group(1)['CRASH_DAY_OF_WEEK'].value_counts().sort_index().values\n",
    "ax.plot(x_injury, y_injury, 'orange', label='Injury')\n",
    "\n",
    "ax.set_title(\"Injuries and Day of Car Crashes\")\n",
    "ax.set_xlabel(\"Day of Week\")\n",
    "ax.set_ylabel(\"Number of Crashes\")\n",
    "ax.set_xticklabels(['Sun', 'Mon', 'Tue', 'Wed', 'Thur', 'Fri', 'Sat'])\n",
    "plt.margins(x=0)\n",
    "ax.legend()\n",
    "\n",
    "# Nothing too noticable\n",
    "# Slight peak on Friday and Saturday\n",
    "# Visitors and tourists visiting from outside of the city may contribute to this slight increase"
   ]
  },
  {
   "cell_type": "markdown",
   "metadata": {},
   "source": [
    "#### `CRASH_MONTH`"
   ]
  },
  {
   "cell_type": "code",
   "execution_count": 36,
   "metadata": {},
   "outputs": [
    {
     "data": {
      "text/plain": [
       "CRASH_MONTH\n",
       "10.0    6077\n",
       "4.0     4002\n",
       "5.0     3870\n",
       "11.0    3616\n",
       "3.0     2866\n",
       "6.0     2816\n",
       "9.0     2546\n",
       "12.0    2515\n",
       "8.0     2176\n",
       "7.0     2073\n",
       "1.0     1788\n",
       "2.0     1549\n",
       "Name: count, dtype: int64"
      ]
     },
     "execution_count": 36,
     "metadata": {},
     "output_type": "execute_result"
    }
   ],
   "source": [
    "df_crashes[\"CRASH_MONTH\"].value_counts()"
   ]
  },
  {
   "cell_type": "code",
   "execution_count": 37,
   "metadata": {},
   "outputs": [
    {
     "data": {
      "text/plain": [
       "<matplotlib.legend.Legend at 0x14251a920>"
      ]
     },
     "execution_count": 37,
     "metadata": {},
     "output_type": "execute_result"
    },
    {
     "data": {
      "image/png": "[encoded data removed]",
      "text/plain": [
       "<Figure size 1000x500 with 1 Axes>"
      ]
     },
     "metadata": {},
     "output_type": "display_data"
    }
   ],
   "source": [
    "# A Grouped bar graph on No Injury/Injury and Crash Months\n",
    "\n",
    "fig, ax = plt.subplots(figsize=(10,5))\n",
    "x_no_injury = grouped_crashes_binary.get_group(0)['CRASH_MONTH'].value_counts().sort_index().index\n",
    "y_no_injury = grouped_crashes_binary.get_group(0)['CRASH_MONTH'].value_counts().sort_index().values\n",
    "ax.bar(x_no_injury -0.2, y_no_injury, 0.4, label='No Injury')\n",
    "\n",
    "x_injury = grouped_crashes_binary.get_group(1)['CRASH_MONTH'].value_counts().sort_index().index\n",
    "y_injury = grouped_crashes_binary.get_group(1)['CRASH_MONTH'].value_counts().sort_index().values\n",
    "ax.bar(x_injury + 0.2, y_injury + 0.4, 0.4, label='Injury')\n",
    "\n",
    "ax.set_xticks(range(1,13))\n",
    "\n",
    "ax.set_title(\"Injuries and Crash Months\")\n",
    "ax.set_xlabel(\"Months\")\n",
    "ax.set_ylabel(\"Number of Crashes\")\n",
    "\n",
    "plt.margins(x=0)\n",
    "ax.legend()\n",
    "\n",
    "# I would have guessed more crashes during the winter months\n",
    "# But there seems to be no dramatic differences between months"
   ]
  },
  {
   "cell_type": "markdown",
   "metadata": {},
   "source": [
    "### Train Test Split"
   ]
  },
  {
   "cell_type": "code",
   "execution_count": 9,
   "metadata": {},
   "outputs": [],
   "source": [
    "from sklearn.model_selection import train_test_split\n",
    "\n",
    "X = df_crashes.drop([\"INJURY_BINARY\", \"MOST_SEVERE_INJURY\"], axis=1)\n",
    "y = df_crashes.INJURY_BINARY\n",
    "X_train, X_test, y_train, y_test = train_test_split(X, y, random_state=42)"
   ]
  },
  {
   "cell_type": "code",
   "execution_count": null,
   "metadata": {},
   "outputs": [],
   "source": [
    "# OneHotEncoder to make categories numeric\n",
    "# This seems necessary before doing SMOTE or DT\n",
    "from sklearn.preprocessing import OneHotEncoder\n",
    "\n",
    "ohe = OneHotEncoder(drop='first')\n",
    "X_train_encd = ohe.fit_transform(X_train).toarray()\n",
    "\n",
    "X_train_encoded = pd.DataFrame (X_train_encd, columns=ohe.get_feature_names_out())\n",
    "\n",
    "X_test_encoded = pd.DataFrame (ohe.transform(X_test).toarray(), columns=ohe.get_feature_names_out())"
   ]
  },
  {
   "cell_type": "code",
   "execution_count": null,
   "metadata": {},
   "outputs": [],
   "source": [
    "from imblearn.over_sampling import SMOTE\n",
    "smote = SMOTE()\n",
    "X_resampled, y_resampled = smote.fit_resample(X_train_encoded, y_train)"
   ]
  },
  {
   "cell_type": "markdown",
   "metadata": {},
   "source": [
    "### Attempt to run Dummy Classifier Model\n",
    "\n",
    "Baseline model to pick the most frequent category. Good to compare with other models later on."
   ]
  },
  {
   "cell_type": "code",
   "execution_count": 12,
   "metadata": {},
   "outputs": [],
   "source": [
    "from sklearn.dummy import DummyClassifier\n",
    "\n",
    "dummy_clf = DummyClassifier(strategy=\"most_frequent\")\n",
    "dummy_clf.fit(X_resampled, y_resampled)\n",
    "\n",
    "y_pred_dummy_clf = dummy_clf.predict(X_test_encoded)\n"
   ]
  },
  {
   "cell_type": "code",
   "execution_count": 13,
   "metadata": {},
   "outputs": [
    {
     "data": {
      "text/plain": [
       "<sklearn.metrics._plot.confusion_matrix.ConfusionMatrixDisplay at 0x1688d6f50>"
      ]
     },
     "execution_count": 13,
     "metadata": {},
     "output_type": "execute_result"
    },
    {
     "data": {
      "image/png": "[encoded data removed]",
      "text/plain": [
       "<Figure size 640x480 with 2 Axes>"
      ]
     },
     "metadata": {},
     "output_type": "display_data"
    }
   ],
   "source": [
    "from sklearn.metrics import confusion_matrix\n",
    "from sklearn.metrics import ConfusionMatrixDisplay\n",
    "\n",
    "cm_dummy_clf = confusion_matrix(y_test, y_pred_dummy_clf)\n",
    "disp = ConfusionMatrixDisplay(cm_dummy_clf)\n",
    "disp.plot()"
   ]
  },
  {
   "cell_type": "code",
   "execution_count": 14,
   "metadata": {},
   "outputs": [
    {
     "data": {
      "text/plain": [
       "0.8388678404279029"
      ]
     },
     "execution_count": 14,
     "metadata": {},
     "output_type": "execute_result"
    }
   ],
   "source": [
    "from sklearn.metrics import accuracy_score, recall_score, precision_score, f1_score\n",
    "\n",
    "dummy_clf_accuracy = accuracy_score(y_test, y_pred_dummy_clf)\n",
    "dummy_clf_accuracy"
   ]
  },
  {
   "cell_type": "code",
   "execution_count": 15,
   "metadata": {},
   "outputs": [
    {
     "data": {
      "text/plain": [
       "0.0"
      ]
     },
     "execution_count": 15,
     "metadata": {},
     "output_type": "execute_result"
    }
   ],
   "source": [
    "dummy_clf_recall = recall_score(y_test, y_pred_dummy_clf)\n",
    "dummy_clf_recall"
   ]
  },
  {
   "cell_type": "markdown",
   "metadata": {},
   "source": [
    "### Attempt to run Decision Tree Classifier"
   ]
  },
  {
   "cell_type": "code",
   "execution_count": 16,
   "metadata": {},
   "outputs": [
    {
     "data": {
      "text/html": [
       "<style>#sk-container-id-1 {color: black;background-color: white;}#sk-container-id-1 pre{padding: 0;}#sk-container-id-1 div.sk-toggleable {background-color: white;}#sk-container-id-1 label.sk-toggleable__label {cursor: pointer;display: block;width: 100%;margin-bottom: 0;padding: 0.3em;box-sizing: border-box;text-align: center;}#sk-container-id-1 label.sk-toggleable__label-arrow:before {content: \"▸\";float: left;margin-right: 0.25em;color: #696969;}#sk-container-id-1 label.sk-toggleable__label-arrow:hover:before {color: black;}#sk-container-id-1 div.sk-estimator:hover label.sk-toggleable__label-arrow:before {color: black;}#sk-container-id-1 div.sk-toggleable__content {max-height: 0;max-width: 0;overflow: hidden;text-align: left;background-color: #f0f8ff;}#sk-container-id-1 div.sk-toggleable__content pre {margin: 0.2em;color: black;border-radius: 0.25em;background-color: #f0f8ff;}#sk-container-id-1 input.sk-toggleable__control:checked~div.sk-toggleable__content {max-height: 200px;max-width: 100%;overflow: auto;}#sk-container-id-1 input.sk-toggleable__control:checked~label.sk-toggleable__label-arrow:before {content: \"▾\";}#sk-container-id-1 div.sk-estimator input.sk-toggleable__control:checked~label.sk-toggleable__label {background-color: #d4ebff;}#sk-container-id-1 div.sk-label input.sk-toggleable__control:checked~label.sk-toggleable__label {background-color: #d4ebff;}#sk-container-id-1 input.sk-hidden--visually {border: 0;clip: rect(1px 1px 1px 1px);clip: rect(1px, 1px, 1px, 1px);height: 1px;margin: -1px;overflow: hidden;padding: 0;position: absolute;width: 1px;}#sk-container-id-1 div.sk-estimator {font-family: monospace;background-color: #f0f8ff;border: 1px dotted black;border-radius: 0.25em;box-sizing: border-box;margin-bottom: 0.5em;}#sk-container-id-1 div.sk-estimator:hover {background-color: #d4ebff;}#sk-container-id-1 div.sk-parallel-item::after {content: \"\";width: 100%;border-bottom: 1px solid gray;flex-grow: 1;}#sk-container-id-1 div.sk-label:hover label.sk-toggleable__label {background-color: #d4ebff;}#sk-container-id-1 div.sk-serial::before {content: \"\";position: absolute;border-left: 1px solid gray;box-sizing: border-box;top: 0;bottom: 0;left: 50%;z-index: 0;}#sk-container-id-1 div.sk-serial {display: flex;flex-direction: column;align-items: center;background-color: white;padding-right: 0.2em;padding-left: 0.2em;position: relative;}#sk-container-id-1 div.sk-item {position: relative;z-index: 1;}#sk-container-id-1 div.sk-parallel {display: flex;align-items: stretch;justify-content: center;background-color: white;position: relative;}#sk-container-id-1 div.sk-item::before, #sk-container-id-1 div.sk-parallel-item::before {content: \"\";position: absolute;border-left: 1px solid gray;box-sizing: border-box;top: 0;bottom: 0;left: 50%;z-index: -1;}#sk-container-id-1 div.sk-parallel-item {display: flex;flex-direction: column;z-index: 1;position: relative;background-color: white;}#sk-container-id-1 div.sk-parallel-item:first-child::after {align-self: flex-end;width: 50%;}#sk-container-id-1 div.sk-parallel-item:last-child::after {align-self: flex-start;width: 50%;}#sk-container-id-1 div.sk-parallel-item:only-child::after {width: 0;}#sk-container-id-1 div.sk-dashed-wrapped {border: 1px dashed gray;margin: 0 0.4em 0.5em 0.4em;box-sizing: border-box;padding-bottom: 0.4em;background-color: white;}#sk-container-id-1 div.sk-label label {font-family: monospace;font-weight: bold;display: inline-block;line-height: 1.2em;}#sk-container-id-1 div.sk-label-container {text-align: center;}#sk-container-id-1 div.sk-container {/* jupyter's `normalize.less` sets `[hidden] { display: none; }` but bootstrap.min.css set `[hidden] { display: none !important; }` so we also need the `!important` here to be able to override the default hidden behavior on the sphinx rendered scikit-learn.org. See: https://github.com/scikit-learn/scikit-learn/issues/21755 */display: inline-block !important;position: relative;}#sk-container-id-1 div.sk-text-repr-fallback {display: none;}</style><div id=\"sk-container-id-1\" class=\"sk-top-container\"><div class=\"sk-text-repr-fallback\"><pre>DecisionTreeClassifier(max_depth=5)</pre><b>In a Jupyter environment, please rerun this cell to show the HTML representation or trust the notebook. <br />On GitHub, the HTML representation is unable to render, please try loading this page with nbviewer.org.</b></div><div class=\"sk-container\" hidden><div class=\"sk-item\"><div class=\"sk-estimator sk-toggleable\"><input class=\"sk-toggleable__control sk-hidden--visually\" id=\"sk-estimator-id-1\" type=\"checkbox\" checked><label for=\"sk-estimator-id-1\" class=\"sk-toggleable__label sk-toggleable__label-arrow\">DecisionTreeClassifier</label><div class=\"sk-toggleable__content\"><pre>DecisionTreeClassifier(max_depth=5)</pre></div></div></div></div></div>"
      ],
      "text/plain": [
       "DecisionTreeClassifier(max_depth=5)"
      ]
     },
     "execution_count": 16,
     "metadata": {},
     "output_type": "execute_result"
    }
   ],
   "source": [
    "from sklearn.tree import DecisionTreeClassifier\n",
    "\n",
    "dt = DecisionTreeClassifier(max_depth=5)\n",
    "dt.fit(X_resampled, y_resampled)\n"
   ]
  },
  {
   "cell_type": "code",
   "execution_count": 17,
   "metadata": {},
   "outputs": [],
   "source": [
    "y_pred = dt.predict(X_test_encoded)\n",
    "\n",
    "# import matplotlib.pyplot as plt\n",
    "# from sklearn.tree import plot_tree\n",
    "\n",
    "# f, ax = plt.subplots(figsize=(100,100))\n",
    "# plot_tree(dt, ax=ax)"
   ]
  },
  {
   "cell_type": "code",
   "execution_count": 18,
   "metadata": {},
   "outputs": [
    {
     "data": {
      "text/plain": [
       "'LIGHTING_CONDITION_DARKNESS, LIGHTED ROAD'"
      ]
     },
     "execution_count": 18,
     "metadata": {},
     "output_type": "execute_result"
    }
   ],
   "source": [
    "ohe.get_feature_names_out()[0]\n",
    "# This is the very first feature, which is the most influencial for our model"
   ]
  },
  {
   "cell_type": "code",
   "execution_count": 19,
   "metadata": {},
   "outputs": [
    {
     "data": {
      "text/plain": [
       "{'LIGHTING_CONDITION_DARKNESS, LIGHTED ROAD': 0.41618632133534716,\n",
       " 'LIGHTING_CONDITION_DAWN': 0.0,\n",
       " 'LIGHTING_CONDITION_DAYLIGHT': 0.21210579899955118,\n",
       " 'LIGHTING_CONDITION_DUSK': 0.11492998199466116,\n",
       " 'LIGHTING_CONDITION_UNKNOWN': 0.04238007232671679,\n",
       " 'CRASH_HOUR_1.0': 0.0,\n",
       " 'CRASH_HOUR_2.0': 0.0,\n",
       " 'CRASH_HOUR_3.0': 0.0,\n",
       " 'CRASH_HOUR_4.0': 0.01896487941680572,\n",
       " 'CRASH_HOUR_5.0': 0.0,\n",
       " 'CRASH_HOUR_6.0': 0.0,\n",
       " 'CRASH_HOUR_7.0': 0.0,\n",
       " 'CRASH_HOUR_8.0': 0.0,\n",
       " 'CRASH_HOUR_9.0': 0.0,\n",
       " 'CRASH_HOUR_10.0': 0.0,\n",
       " 'CRASH_HOUR_11.0': 0.0,\n",
       " 'CRASH_HOUR_12.0': 0.0,\n",
       " 'CRASH_HOUR_13.0': 0.0,\n",
       " 'CRASH_HOUR_14.0': 0.0,\n",
       " 'CRASH_HOUR_15.0': 0.0,\n",
       " 'CRASH_HOUR_16.0': 0.04294870193131198,\n",
       " 'CRASH_HOUR_17.0': 0.07535496974500569,\n",
       " 'CRASH_HOUR_18.0': 0.0,\n",
       " 'CRASH_HOUR_19.0': 0.0,\n",
       " 'CRASH_HOUR_20.0': 0.0,\n",
       " 'CRASH_HOUR_21.0': 0.0,\n",
       " 'CRASH_HOUR_22.0': 0.0,\n",
       " 'CRASH_HOUR_23.0': 0.0,\n",
       " 'CRASH_DAY_OF_WEEK_2.0': 0.0,\n",
       " 'CRASH_DAY_OF_WEEK_3.0': 0.0,\n",
       " 'CRASH_DAY_OF_WEEK_4.0': 0.024735719403934573,\n",
       " 'CRASH_DAY_OF_WEEK_5.0': 0.0,\n",
       " 'CRASH_DAY_OF_WEEK_6.0': 0.014002654534221068,\n",
       " 'CRASH_DAY_OF_WEEK_7.0': 0.0,\n",
       " 'CRASH_MONTH_2.0': 0.0,\n",
       " 'CRASH_MONTH_3.0': 0.0,\n",
       " 'CRASH_MONTH_4.0': 0.0,\n",
       " 'CRASH_MONTH_5.0': 0.0,\n",
       " 'CRASH_MONTH_6.0': 0.03235212027592518,\n",
       " 'CRASH_MONTH_7.0': 0.0,\n",
       " 'CRASH_MONTH_8.0': 0.0,\n",
       " 'CRASH_MONTH_9.0': 0.006038780036519366,\n",
       " 'CRASH_MONTH_10.0': 0.0,\n",
       " 'CRASH_MONTH_11.0': 0.0,\n",
       " 'CRASH_MONTH_12.0': 0.0}"
      ]
     },
     "execution_count": 19,
     "metadata": {},
     "output_type": "execute_result"
    }
   ],
   "source": [
    "feature_imp = {}\n",
    "for fi, feature in zip(dt.feature_importances_, dt.feature_names_in_):\n",
    "    feature_imp[feature] = fi\n",
    "\n",
    "feature_imp\n",
    "\n",
    "# This confirms the most important feature is what was shown above"
   ]
  },
  {
   "cell_type": "code",
   "execution_count": 21,
   "metadata": {},
   "outputs": [
    {
     "data": {
      "text/plain": [
       "0.6571693907875186"
      ]
     },
     "execution_count": 21,
     "metadata": {},
     "output_type": "execute_result"
    }
   ],
   "source": [
    "y_pred_dt = dt.predict(X_test_encoded)\n",
    "y_train_pred_dt = dt.predict(X_train_encoded)\n",
    "\n",
    "dt_train_accuracy = accuracy_score(y_train, y_train_pred_dt)\n",
    "dt_train_accuracy\n"
   ]
  },
  {
   "cell_type": "code",
   "execution_count": 22,
   "metadata": {},
   "outputs": [
    {
     "data": {
      "text/plain": [
       "0.6605749944283485"
      ]
     },
     "execution_count": 22,
     "metadata": {},
     "output_type": "execute_result"
    }
   ],
   "source": [
    "dt_accuracy = accuracy_score(y_test, y_pred_dt)\n",
    "dt_accuracy"
   ]
  },
  {
   "cell_type": "code",
   "execution_count": 23,
   "metadata": {},
   "outputs": [
    {
     "data": {
      "text/plain": [
       "0.3372620126926564"
      ]
     },
     "execution_count": 23,
     "metadata": {},
     "output_type": "execute_result"
    }
   ],
   "source": [
    "dt_train_recall = recall_score(y_train, y_train_pred_dt)\n",
    "dt_train_recall"
   ]
  },
  {
   "cell_type": "code",
   "execution_count": 24,
   "metadata": {},
   "outputs": [
    {
     "data": {
      "text/plain": [
       "0.3243430152143845"
      ]
     },
     "execution_count": 24,
     "metadata": {},
     "output_type": "execute_result"
    }
   ],
   "source": [
    "dt_recall = recall_score(y_test, y_pred_dt)\n",
    "dt_recall"
   ]
  },
  {
   "cell_type": "markdown",
   "metadata": {},
   "source": [
    "#### Attempt to run Decision Tree again, with multiclass target variable"
   ]
  },
  {
   "cell_type": "code",
   "execution_count": 25,
   "metadata": {},
   "outputs": [],
   "source": [
    "y2 = df_crashes.MOST_SEVERE_INJURY\n",
    "\n",
    "X_train_2, X_test_2, y_train_2, y_test_2 = train_test_split(X, y2, random_state=42)"
   ]
  },
  {
   "cell_type": "code",
   "execution_count": 26,
   "metadata": {},
   "outputs": [],
   "source": [
    "ohe = OneHotEncoder(drop='first', handle_unknown='ignore')\n",
    "\n",
    "X_train_encoded_2 = pd.DataFrame (ohe.fit_transform(X_train_2).toarray(), columns=ohe.get_feature_names_out())\n",
    "X_test_encoded_2 = pd.DataFrame (ohe.transform(X_test_2).toarray(), columns=ohe.get_feature_names_out())"
   ]
  },
  {
   "cell_type": "code",
   "execution_count": 27,
   "metadata": {},
   "outputs": [],
   "source": [
    "smote_2 = SMOTE()\n",
    "X_resampled_2, y_resampled_2 = smote_2.fit_resample(X_train_encoded_2, y_train_2)"
   ]
  },
  {
   "cell_type": "code",
   "execution_count": 28,
   "metadata": {},
   "outputs": [
    {
     "data": {
      "text/html": [
       "<style>#sk-container-id-2 {color: black;background-color: white;}#sk-container-id-2 pre{padding: 0;}#sk-container-id-2 div.sk-toggleable {background-color: white;}#sk-container-id-2 label.sk-toggleable__label {cursor: pointer;display: block;width: 100%;margin-bottom: 0;padding: 0.3em;box-sizing: border-box;text-align: center;}#sk-container-id-2 label.sk-toggleable__label-arrow:before {content: \"▸\";float: left;margin-right: 0.25em;color: #696969;}#sk-container-id-2 label.sk-toggleable__label-arrow:hover:before {color: black;}#sk-container-id-2 div.sk-estimator:hover label.sk-toggleable__label-arrow:before {color: black;}#sk-container-id-2 div.sk-toggleable__content {max-height: 0;max-width: 0;overflow: hidden;text-align: left;background-color: #f0f8ff;}#sk-container-id-2 div.sk-toggleable__content pre {margin: 0.2em;color: black;border-radius: 0.25em;background-color: #f0f8ff;}#sk-container-id-2 input.sk-toggleable__control:checked~div.sk-toggleable__content {max-height: 200px;max-width: 100%;overflow: auto;}#sk-container-id-2 input.sk-toggleable__control:checked~label.sk-toggleable__label-arrow:before {content: \"▾\";}#sk-container-id-2 div.sk-estimator input.sk-toggleable__control:checked~label.sk-toggleable__label {background-color: #d4ebff;}#sk-container-id-2 div.sk-label input.sk-toggleable__control:checked~label.sk-toggleable__label {background-color: #d4ebff;}#sk-container-id-2 input.sk-hidden--visually {border: 0;clip: rect(1px 1px 1px 1px);clip: rect(1px, 1px, 1px, 1px);height: 1px;margin: -1px;overflow: hidden;padding: 0;position: absolute;width: 1px;}#sk-container-id-2 div.sk-estimator {font-family: monospace;background-color: #f0f8ff;border: 1px dotted black;border-radius: 0.25em;box-sizing: border-box;margin-bottom: 0.5em;}#sk-container-id-2 div.sk-estimator:hover {background-color: #d4ebff;}#sk-container-id-2 div.sk-parallel-item::after {content: \"\";width: 100%;border-bottom: 1px solid gray;flex-grow: 1;}#sk-container-id-2 div.sk-label:hover label.sk-toggleable__label {background-color: #d4ebff;}#sk-container-id-2 div.sk-serial::before {content: \"\";position: absolute;border-left: 1px solid gray;box-sizing: border-box;top: 0;bottom: 0;left: 50%;z-index: 0;}#sk-container-id-2 div.sk-serial {display: flex;flex-direction: column;align-items: center;background-color: white;padding-right: 0.2em;padding-left: 0.2em;position: relative;}#sk-container-id-2 div.sk-item {position: relative;z-index: 1;}#sk-container-id-2 div.sk-parallel {display: flex;align-items: stretch;justify-content: center;background-color: white;position: relative;}#sk-container-id-2 div.sk-item::before, #sk-container-id-2 div.sk-parallel-item::before {content: \"\";position: absolute;border-left: 1px solid gray;box-sizing: border-box;top: 0;bottom: 0;left: 50%;z-index: -1;}#sk-container-id-2 div.sk-parallel-item {display: flex;flex-direction: column;z-index: 1;position: relative;background-color: white;}#sk-container-id-2 div.sk-parallel-item:first-child::after {align-self: flex-end;width: 50%;}#sk-container-id-2 div.sk-parallel-item:last-child::after {align-self: flex-start;width: 50%;}#sk-container-id-2 div.sk-parallel-item:only-child::after {width: 0;}#sk-container-id-2 div.sk-dashed-wrapped {border: 1px dashed gray;margin: 0 0.4em 0.5em 0.4em;box-sizing: border-box;padding-bottom: 0.4em;background-color: white;}#sk-container-id-2 div.sk-label label {font-family: monospace;font-weight: bold;display: inline-block;line-height: 1.2em;}#sk-container-id-2 div.sk-label-container {text-align: center;}#sk-container-id-2 div.sk-container {/* jupyter's `normalize.less` sets `[hidden] { display: none; }` but bootstrap.min.css set `[hidden] { display: none !important; }` so we also need the `!important` here to be able to override the default hidden behavior on the sphinx rendered scikit-learn.org. See: https://github.com/scikit-learn/scikit-learn/issues/21755 */display: inline-block !important;position: relative;}#sk-container-id-2 div.sk-text-repr-fallback {display: none;}</style><div id=\"sk-container-id-2\" class=\"sk-top-container\"><div class=\"sk-text-repr-fallback\"><pre>DecisionTreeClassifier(max_depth=10)</pre><b>In a Jupyter environment, please rerun this cell to show the HTML representation or trust the notebook. <br />On GitHub, the HTML representation is unable to render, please try loading this page with nbviewer.org.</b></div><div class=\"sk-container\" hidden><div class=\"sk-item\"><div class=\"sk-estimator sk-toggleable\"><input class=\"sk-toggleable__control sk-hidden--visually\" id=\"sk-estimator-id-2\" type=\"checkbox\" checked><label for=\"sk-estimator-id-2\" class=\"sk-toggleable__label sk-toggleable__label-arrow\">DecisionTreeClassifier</label><div class=\"sk-toggleable__content\"><pre>DecisionTreeClassifier(max_depth=10)</pre></div></div></div></div></div>"
      ],
      "text/plain": [
       "DecisionTreeClassifier(max_depth=10)"
      ]
     },
     "execution_count": 28,
     "metadata": {},
     "output_type": "execute_result"
    }
   ],
   "source": [
    "dt_2 = DecisionTreeClassifier(max_depth=10)\n",
    "dt_2.fit(X_resampled_2, y_resampled_2)"
   ]
  },
  {
   "cell_type": "code",
   "execution_count": 29,
   "metadata": {},
   "outputs": [
    {
     "name": "stderr",
     "output_type": "stream",
     "text": [
      "/Library/Frameworks/Python.framework/Versions/3.10/lib/python3.10/site-packages/sklearn/base.py:439: UserWarning: X does not have valid feature names, but DecisionTreeClassifier was fitted with feature names\n",
      "  warnings.warn(\n"
     ]
    }
   ],
   "source": [
    "\n",
    "y_pred_2 = dt.predict(X_test_encoded_2)\n",
    "\n",
    "# f, ax = plt.subplots(figsize=(150,150))\n",
    "# plot_tree(dt_2, ax=ax)"
   ]
  },
  {
   "cell_type": "code",
   "execution_count": 30,
   "metadata": {},
   "outputs": [
    {
     "name": "stdout",
     "output_type": "stream",
     "text": [
      "0.026482507382457502 LIGHTING_CONDITION_DARKNESS, LIGHTED ROAD\n",
      "0.0018628001882293186 LIGHTING_CONDITION_DAWN\n",
      "0.003106416157358037 LIGHTING_CONDITION_DAYLIGHT\n",
      "0.0 LIGHTING_CONDITION_DUSK\n",
      "0.0 LIGHTING_CONDITION_UNKNOWN\n",
      "0.019033329870850664 CRASH_HOUR_1.0\n",
      "0.042463087568602495 CRASH_HOUR_2.0\n",
      "0.0 CRASH_HOUR_3.0\n",
      "0.02144031193329259 CRASH_HOUR_4.0\n",
      "0.02890348292053589 CRASH_HOUR_5.0\n",
      "0.006452688713478948 CRASH_HOUR_6.0\n",
      "0.010009542997305358 CRASH_HOUR_7.0\n",
      "0.009283973964011627 CRASH_HOUR_8.0\n",
      "0.02940385223225807 CRASH_HOUR_9.0\n",
      "0.0008540017579048147 CRASH_HOUR_10.0\n",
      "0.0 CRASH_HOUR_11.0\n",
      "0.05504180371117511 CRASH_HOUR_12.0\n",
      "0.0 CRASH_HOUR_13.0\n",
      "0.012626083217307052 CRASH_HOUR_14.0\n",
      "0.017656026736141008 CRASH_HOUR_15.0\n",
      "0.001003114497573705 CRASH_HOUR_16.0\n",
      "0.000571088740839984 CRASH_HOUR_17.0\n",
      "0.008446920175006195 CRASH_HOUR_18.0\n",
      "0.001371011846494508 CRASH_HOUR_19.0\n",
      "0.011871173226173547 CRASH_HOUR_20.0\n",
      "0.018966292312945308 CRASH_HOUR_21.0\n",
      "0.029749458157295426 CRASH_HOUR_22.0\n",
      "0.08142953632204734 CRASH_HOUR_23.0\n",
      "0.08750800352550668 CRASH_DAY_OF_WEEK_2.0\n",
      "0.019017563569784006 CRASH_DAY_OF_WEEK_3.0\n",
      "0.023164683153514724 CRASH_DAY_OF_WEEK_4.0\n",
      "0.024700019264920593 CRASH_DAY_OF_WEEK_5.0\n",
      "0.03781381552395627 CRASH_DAY_OF_WEEK_6.0\n",
      "0.036505341752848 CRASH_DAY_OF_WEEK_7.0\n",
      "0.012413952425303255 CRASH_MONTH_2.0\n",
      "0.017102933824610193 CRASH_MONTH_3.0\n",
      "0.046136135706926096 CRASH_MONTH_4.0\n",
      "0.04792899425786247 CRASH_MONTH_5.0\n",
      "0.014624126177796314 CRASH_MONTH_6.0\n",
      "0.042201557082966426 CRASH_MONTH_7.0\n",
      "0.057857136703801604 CRASH_MONTH_8.0\n",
      "0.025264358017084328 CRASH_MONTH_9.0\n",
      "0.04492342016933839 CRASH_MONTH_10.0\n",
      "0.008564527854252449 CRASH_MONTH_11.0\n",
      "0.016244926360243682 CRASH_MONTH_12.0\n"
     ]
    }
   ],
   "source": [
    "feature_imp_2 = {}\n",
    "for fi, feature in zip(dt_2.feature_importances_, dt_2.feature_names_in_):\n",
    "    # feature_imp[feature] = fi\n",
    "    print(fi, feature)\n"
   ]
  },
  {
   "cell_type": "code",
   "execution_count": 31,
   "metadata": {},
   "outputs": [
    {
     "data": {
      "text/plain": [
       "0.5790861812778604"
      ]
     },
     "execution_count": 31,
     "metadata": {},
     "output_type": "execute_result"
    }
   ],
   "source": [
    "y_pred_dt_2 = dt_2.predict(X_test_encoded_2)\n",
    "y_train_pred_dt_2 = dt_2.predict(X_train_encoded_2)\n",
    "\n",
    "dt_train_accuracy_2 = accuracy_score(y_train_2, y_train_pred_dt_2)\n",
    "dt_train_accuracy_2\n"
   ]
  },
  {
   "cell_type": "code",
   "execution_count": 32,
   "metadata": {},
   "outputs": [
    {
     "data": {
      "text/plain": [
       "0.5793403164698017"
      ]
     },
     "execution_count": 32,
     "metadata": {},
     "output_type": "execute_result"
    }
   ],
   "source": [
    "dt_accuracy_2 = accuracy_score(y_test_2, y_pred_dt_2)\n",
    "dt_accuracy_2"
   ]
  },
  {
   "cell_type": "code",
   "execution_count": 33,
   "metadata": {},
   "outputs": [
    {
     "data": {
      "text/plain": [
       "0.5790861812778604"
      ]
     },
     "execution_count": 33,
     "metadata": {},
     "output_type": "execute_result"
    }
   ],
   "source": [
    "dt_train_recall_2 = recall_score(y_train_2, y_train_pred_dt_2, average='micro')\n",
    "dt_train_recall_2"
   ]
  },
  {
   "cell_type": "code",
   "execution_count": 34,
   "metadata": {},
   "outputs": [
    {
     "data": {
      "text/plain": [
       "0.5793403164698017"
      ]
     },
     "execution_count": 34,
     "metadata": {},
     "output_type": "execute_result"
    }
   ],
   "source": [
    "dt_recall_2 = recall_score(y_test_2, y_pred_dt_2, average='micro')\n",
    "dt_recall_2"
   ]
  },
  {
   "cell_type": "markdown",
   "metadata": {},
   "source": [
    "#### Trying out Logistic Regression Model with Multiclass Target Variable\n",
    "\n",
    "Here, the `MOST_SEVERE_INJURY` column is used instead of `INJURY_BINARY` to make the model multiclass classification. "
   ]
  },
  {
   "cell_type": "code",
   "execution_count": 496,
   "metadata": {},
   "outputs": [],
   "source": [
    "smote2 = SMOTE()\n",
    "X_resampled2, y_resampled2 = smote2.fit_resample(X_train_encoded2, y_train2)"
   ]
  },
  {
   "cell_type": "code",
   "execution_count": 40,
   "metadata": {},
   "outputs": [],
   "source": [
    "from sklearn.preprocessing import StandardScaler\n",
    "\n",
    "ss = StandardScaler()\n",
    "X_resampled_scaled2 = ss.fit_transform(X_resampled_2)\n"
   ]
  },
  {
   "cell_type": "code",
   "execution_count": 41,
   "metadata": {},
   "outputs": [
    {
     "name": "stderr",
     "output_type": "stream",
     "text": [
      "/Library/Frameworks/Python.framework/Versions/3.10/lib/python3.10/site-packages/sklearn/linear_model/_logistic.py:458: ConvergenceWarning: lbfgs failed to converge (status=1):\n",
      "STOP: TOTAL NO. of ITERATIONS REACHED LIMIT.\n",
      "\n",
      "Increase the number of iterations (max_iter) or scale the data as shown in:\n",
      "    https://scikit-learn.org/stable/modules/preprocessing.html\n",
      "Please also refer to the documentation for alternative solver options:\n",
      "    https://scikit-learn.org/stable/modules/linear_model.html#logistic-regression\n",
      "  n_iter_i = _check_optimize_result(\n"
     ]
    },
    {
     "data": {
      "text/html": [
       "<style>#sk-container-id-3 {color: black;background-color: white;}#sk-container-id-3 pre{padding: 0;}#sk-container-id-3 div.sk-toggleable {background-color: white;}#sk-container-id-3 label.sk-toggleable__label {cursor: pointer;display: block;width: 100%;margin-bottom: 0;padding: 0.3em;box-sizing: border-box;text-align: center;}#sk-container-id-3 label.sk-toggleable__label-arrow:before {content: \"▸\";float: left;margin-right: 0.25em;color: #696969;}#sk-container-id-3 label.sk-toggleable__label-arrow:hover:before {color: black;}#sk-container-id-3 div.sk-estimator:hover label.sk-toggleable__label-arrow:before {color: black;}#sk-container-id-3 div.sk-toggleable__content {max-height: 0;max-width: 0;overflow: hidden;text-align: left;background-color: #f0f8ff;}#sk-container-id-3 div.sk-toggleable__content pre {margin: 0.2em;color: black;border-radius: 0.25em;background-color: #f0f8ff;}#sk-container-id-3 input.sk-toggleable__control:checked~div.sk-toggleable__content {max-height: 200px;max-width: 100%;overflow: auto;}#sk-container-id-3 input.sk-toggleable__control:checked~label.sk-toggleable__label-arrow:before {content: \"▾\";}#sk-container-id-3 div.sk-estimator input.sk-toggleable__control:checked~label.sk-toggleable__label {background-color: #d4ebff;}#sk-container-id-3 div.sk-label input.sk-toggleable__control:checked~label.sk-toggleable__label {background-color: #d4ebff;}#sk-container-id-3 input.sk-hidden--visually {border: 0;clip: rect(1px 1px 1px 1px);clip: rect(1px, 1px, 1px, 1px);height: 1px;margin: -1px;overflow: hidden;padding: 0;position: absolute;width: 1px;}#sk-container-id-3 div.sk-estimator {font-family: monospace;background-color: #f0f8ff;border: 1px dotted black;border-radius: 0.25em;box-sizing: border-box;margin-bottom: 0.5em;}#sk-container-id-3 div.sk-estimator:hover {background-color: #d4ebff;}#sk-container-id-3 div.sk-parallel-item::after {content: \"\";width: 100%;border-bottom: 1px solid gray;flex-grow: 1;}#sk-container-id-3 div.sk-label:hover label.sk-toggleable__label {background-color: #d4ebff;}#sk-container-id-3 div.sk-serial::before {content: \"\";position: absolute;border-left: 1px solid gray;box-sizing: border-box;top: 0;bottom: 0;left: 50%;z-index: 0;}#sk-container-id-3 div.sk-serial {display: flex;flex-direction: column;align-items: center;background-color: white;padding-right: 0.2em;padding-left: 0.2em;position: relative;}#sk-container-id-3 div.sk-item {position: relative;z-index: 1;}#sk-container-id-3 div.sk-parallel {display: flex;align-items: stretch;justify-content: center;background-color: white;position: relative;}#sk-container-id-3 div.sk-item::before, #sk-container-id-3 div.sk-parallel-item::before {content: \"\";position: absolute;border-left: 1px solid gray;box-sizing: border-box;top: 0;bottom: 0;left: 50%;z-index: -1;}#sk-container-id-3 div.sk-parallel-item {display: flex;flex-direction: column;z-index: 1;position: relative;background-color: white;}#sk-container-id-3 div.sk-parallel-item:first-child::after {align-self: flex-end;width: 50%;}#sk-container-id-3 div.sk-parallel-item:last-child::after {align-self: flex-start;width: 50%;}#sk-container-id-3 div.sk-parallel-item:only-child::after {width: 0;}#sk-container-id-3 div.sk-dashed-wrapped {border: 1px dashed gray;margin: 0 0.4em 0.5em 0.4em;box-sizing: border-box;padding-bottom: 0.4em;background-color: white;}#sk-container-id-3 div.sk-label label {font-family: monospace;font-weight: bold;display: inline-block;line-height: 1.2em;}#sk-container-id-3 div.sk-label-container {text-align: center;}#sk-container-id-3 div.sk-container {/* jupyter's `normalize.less` sets `[hidden] { display: none; }` but bootstrap.min.css set `[hidden] { display: none !important; }` so we also need the `!important` here to be able to override the default hidden behavior on the sphinx rendered scikit-learn.org. See: https://github.com/scikit-learn/scikit-learn/issues/21755 */display: inline-block !important;position: relative;}#sk-container-id-3 div.sk-text-repr-fallback {display: none;}</style><div id=\"sk-container-id-3\" class=\"sk-top-container\"><div class=\"sk-text-repr-fallback\"><pre>LogisticRegression(random_state=42)</pre><b>In a Jupyter environment, please rerun this cell to show the HTML representation or trust the notebook. <br />On GitHub, the HTML representation is unable to render, please try loading this page with nbviewer.org.</b></div><div class=\"sk-container\" hidden><div class=\"sk-item\"><div class=\"sk-estimator sk-toggleable\"><input class=\"sk-toggleable__control sk-hidden--visually\" id=\"sk-estimator-id-3\" type=\"checkbox\" checked><label for=\"sk-estimator-id-3\" class=\"sk-toggleable__label sk-toggleable__label-arrow\">LogisticRegression</label><div class=\"sk-toggleable__content\"><pre>LogisticRegression(random_state=42)</pre></div></div></div></div></div>"
      ],
      "text/plain": [
       "LogisticRegression(random_state=42)"
      ]
     },
     "execution_count": 41,
     "metadata": {},
     "output_type": "execute_result"
    }
   ],
   "source": [
    "from sklearn.linear_model import LogisticRegression\n",
    "\n",
    "logreg = LogisticRegression(random_state=42)\n",
    "logreg.fit(X_resampled_scaled2, y_resampled_2)\n"
   ]
  },
  {
   "cell_type": "code",
   "execution_count": 42,
   "metadata": {},
   "outputs": [
    {
     "data": {
      "text/plain": [
       "0.37301403945263906"
      ]
     },
     "execution_count": 42,
     "metadata": {},
     "output_type": "execute_result"
    }
   ],
   "source": [
    "logreg.score(X_resampled_scaled2, y_resampled_2)\n",
    "# This is accuracy"
   ]
  },
  {
   "cell_type": "code",
   "execution_count": 48,
   "metadata": {},
   "outputs": [],
   "source": [
    "X_test_scaled_2 = ss.transform(X_test_encoded_2)"
   ]
  },
  {
   "cell_type": "code",
   "execution_count": 49,
   "metadata": {},
   "outputs": [
    {
     "name": "stderr",
     "output_type": "stream",
     "text": [
      "/Library/Frameworks/Python.framework/Versions/3.10/lib/python3.10/site-packages/sklearn/base.py:432: UserWarning: X has feature names, but LogisticRegression was fitted without feature names\n",
      "  warnings.warn(\n"
     ]
    },
    {
     "data": {
      "text/plain": [
       "0.5819032761310452"
      ]
     },
     "execution_count": 49,
     "metadata": {},
     "output_type": "execute_result"
    }
   ],
   "source": [
    "logreg.score(X_test_encoded_2, y_test_2)\n"
   ]
  },
  {
   "cell_type": "code",
   "execution_count": 51,
   "metadata": {},
   "outputs": [
    {
     "data": {
      "text/plain": [
       "1.4241021021368168"
      ]
     },
     "execution_count": 51,
     "metadata": {},
     "output_type": "execute_result"
    }
   ],
   "source": [
    "from sklearn.metrics import log_loss\n",
    "log_loss(y_resampled_2, logreg.predict_proba(X_resampled_scaled_2))"
   ]
  },
  {
   "cell_type": "code",
   "execution_count": 52,
   "metadata": {},
   "outputs": [
    {
     "data": {
      "text/plain": [
       "1.595671991390146"
      ]
     },
     "execution_count": 52,
     "metadata": {},
     "output_type": "execute_result"
    }
   ],
   "source": [
    "log_loss(y_test_2, logreg.predict_proba(X_test_scaled_2))\n",
    "# lower is better\n"
   ]
  },
  {
   "cell_type": "code",
   "execution_count": null,
   "metadata": {},
   "outputs": [],
   "source": [
    "coef = logreg.coef_\n",
    "coef"
   ]
  },
  {
   "cell_type": "code",
   "execution_count": 71,
   "metadata": {},
   "outputs": [
    {
     "data": {
      "text/plain": [
       "0.21629150880320927"
      ]
     },
     "execution_count": 71,
     "metadata": {},
     "output_type": "execute_result"
    }
   ],
   "source": [
    "logreg_accuracy = accuracy_score(y_test_2, y_pred_logreg_2)\n",
    "logreg_accuracy"
   ]
  },
  {
   "cell_type": "code",
   "execution_count": 68,
   "metadata": {},
   "outputs": [
    {
     "data": {
      "text/plain": [
       "0.21629150880320927"
      ]
     },
     "execution_count": 68,
     "metadata": {},
     "output_type": "execute_result"
    }
   ],
   "source": [
    "y_pred_logreg_2 = logreg.predict(X_test_scaled_2)\n",
    "model_recall = recall_score(y_test_2, y_pred_logreg_2, average='micro')\n",
    "model_recall"
   ]
  }
 ],
 "metadata": {
  "kernelspec": {
   "display_name": "Python 3.10.2 64-bit",
   "language": "python",
   "name": "python3"
  },
  "language_info": {
   "codemirror_mode": {
    "name": "ipython",
    "version": 3
   },
   "file_extension": ".py",
   "mimetype": "text/x-python",
   "name": "python",
   "nbconvert_exporter": "python",
   "pygments_lexer": "ipython3",
   "version": "3.10.2"
  },
  "orig_nbformat": 4,
  "vscode": {
   "interpreter": {
    "hash": "aee8b7b246df8f9039afb4144a1f6fd8d2ca17a180786b69acc140d282b71a49"
   }
  }
 },
 "nbformat": 4,
 "nbformat_minor": 2
}
